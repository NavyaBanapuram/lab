{
  "nbformat": 4,
  "nbformat_minor": 0,
  "metadata": {
    "colab": {
      "provenance": [],
      "authorship_tag": "ABX9TyOP0n2uryRRGQc+1LmT9IrM",
      "include_colab_link": true
    },
    "kernelspec": {
      "name": "python3",
      "display_name": "Python 3"
    },
    "language_info": {
      "name": "python"
    }
  },
  "cells": [
    {
      "cell_type": "markdown",
      "metadata": {
        "id": "view-in-github",
        "colab_type": "text"
      },
      "source": [
        "<a href=\"https://colab.research.google.com/github/jasmin-lilly/jasmin-lilly/blob/main/KNN.ipynb\" target=\"_parent\"><img src=\"https://colab.research.google.com/assets/colab-badge.svg\" alt=\"Open In Colab\"/></a>"
      ]
    },
    {
      "cell_type": "code",
      "execution_count": null,
      "metadata": {
        "id": "dtJWObfXCN2t"
      },
      "outputs": [],
      "source": [
        "from sklearn.model_selection import train_test_split\n",
        "from sklearn.neighbors import KNeighborsClassifier\n",
        "from sklearn import datasets\n",
        "import pandas as pd\n",
        "import numpy as np"
      ]
    },
    {
      "cell_type": "code",
      "source": [
        "#Load dataset\n",
        "iris=datasets.load_iris()\n",
        "df=pd.read_csv('/content/iris.csv')\n",
        "print(df)"
      ],
      "metadata": {
        "colab": {
          "base_uri": "https://localhost:8080/"
        },
        "id": "UzrK5rJkLv0P",
        "outputId": "53ea526e-d90f-4ffc-bcc7-fe4d0c8b5406"
      },
      "execution_count": null,
      "outputs": [
        {
          "output_type": "stream",
          "name": "stdout",
          "text": [
            "     sepal_length  sepal_width  petal_length  petal_width    species\n",
            "0             5.1          3.5           1.4          0.2     setosa\n",
            "1             4.9          3.0           1.4          0.2     setosa\n",
            "2             4.7          3.2           1.3          0.2     setosa\n",
            "3             4.6          3.1           1.5          0.2     setosa\n",
            "4             5.0          3.6           1.4          0.2     setosa\n",
            "..            ...          ...           ...          ...        ...\n",
            "145           6.7          3.0           5.2          2.3  virginica\n",
            "146           6.3          2.5           5.0          1.9  virginica\n",
            "147           6.5          3.0           5.2          2.0  virginica\n",
            "148           6.2          3.4           5.4          2.3  virginica\n",
            "149           5.9          3.0           5.1          1.8  virginica\n",
            "\n",
            "[150 rows x 5 columns]\n"
          ]
        }
      ]
    },
    {
      "cell_type": "code",
      "source": [
        "#Split the data into train and test samples\n",
        "x_train,x_test,y_train,y_test = train_test_split(iris.data,iris.target,test_size=0.1)\n",
        "print(\"Dataset is split into training and testing...\")\n",
        "print(\"Size of training data and its label\",x_train.shape,y_train.shape)\n",
        "print(\"Size of testing data and its label\",x_test.shape,y_test.shape)"
      ],
      "metadata": {
        "colab": {
          "base_uri": "https://localhost:8080/"
        },
        "id": "m7acCfLEMTJ2",
        "outputId": "fb8418d9-bbad-4b4d-e257-a6a5247fbeab"
      },
      "execution_count": null,
      "outputs": [
        {
          "output_type": "stream",
          "name": "stdout",
          "text": [
            "Dataset is split into training and testing...\n",
            "Size of training data and its label (135, 4) (135,)\n",
            "Size of testing data and its label (15, 4) (15,)\n"
          ]
        }
      ]
    },
    {
      "cell_type": "code",
      "source": [
        "# prints Label no. and their names\n",
        "for i in range(len(iris.target_names)):\n",
        "  print(\"Label\", i , \"-\",str(iris.target_names[i]))\n"
      ],
      "metadata": {
        "colab": {
          "base_uri": "https://localhost:8080/"
        },
        "id": "_Fxd6CmYMyt-",
        "outputId": "481d93e7-1c9a-4482-cde7-2ba570e4c109"
      },
      "execution_count": null,
      "outputs": [
        {
          "output_type": "stream",
          "name": "stdout",
          "text": [
            "Label 0 - setosa\n",
            "Label 1 - versicolor\n",
            "Label 2 - virginica\n"
          ]
        }
      ]
    },
    {
      "cell_type": "code",
      "source": [
        "#create object of KNN classifer\n",
        "classifer = KNeighborsClassifier(n_neighbors=3)\n"
      ],
      "metadata": {
        "id": "q3RVE1_jM0qN"
      },
      "execution_count": null,
      "outputs": []
    },
    {
      "cell_type": "code",
      "source": [
        "#perform Training\n",
        "classifer.fit(x_train, y_train)#perform teating\n",
        "y_pred=classifer.predict(x_test)\n"
      ],
      "metadata": {
        "id": "BRBCD1RFNBdV"
      },
      "execution_count": null,
      "outputs": []
    },
    {
      "cell_type": "code",
      "source": [
        "#Display the results\n",
        "print(\"Results of Classification using K-nn with K=3\")\n",
        "for r in range(0,len(x_test)):\n",
        "  print(\" sample:\", str(x_test[r]), \" Actual-label:\",str(y_test[r]), \" predict-label:\", str(y_pred[r]))\n",
        "print(\"Classification Accuracy :\" , classifer.score(x_test,y_test))\n"
      ],
      "metadata": {
        "colab": {
          "base_uri": "https://localhost:8080/"
        },
        "id": "7N_rKOQ1NIfl",
        "outputId": "4430ddd7-c5d6-4434-db12-e0b26c7d296e"
      },
      "execution_count": null,
      "outputs": [
        {
          "output_type": "stream",
          "name": "stdout",
          "text": [
            "Results of Classification using K-nn with K=3\n",
            " sample: [4.9 3.6 1.4 0.1]  Actual-label: 0  predict-label: 0\n",
            " sample: [5.9 3.2 4.8 1.8]  Actual-label: 1  predict-label: 2\n",
            " sample: [6.  3.4 4.5 1.6]  Actual-label: 1  predict-label: 1\n",
            " sample: [4.4 2.9 1.4 0.2]  Actual-label: 0  predict-label: 0\n",
            " sample: [4.5 2.3 1.3 0.3]  Actual-label: 0  predict-label: 0\n",
            " sample: [5.8 2.6 4.  1.2]  Actual-label: 1  predict-label: 1\n",
            " sample: [7.2 3.  5.8 1.6]  Actual-label: 2  predict-label: 2\n",
            " sample: [5.7 4.4 1.5 0.4]  Actual-label: 0  predict-label: 0\n",
            " sample: [5.  3.5 1.6 0.6]  Actual-label: 0  predict-label: 0\n",
            " sample: [5.5 2.4 3.8 1.1]  Actual-label: 1  predict-label: 1\n",
            " sample: [6.4 3.1 5.5 1.8]  Actual-label: 2  predict-label: 2\n",
            " sample: [6.  2.2 5.  1.5]  Actual-label: 2  predict-label: 1\n",
            " sample: [6.5 3.2 5.1 2. ]  Actual-label: 2  predict-label: 2\n",
            " sample: [6.5 3.  5.2 2. ]  Actual-label: 2  predict-label: 2\n",
            " sample: [6.4 2.8 5.6 2.2]  Actual-label: 2  predict-label: 2\n",
            "Classification Accuracy : 0.8666666666666667\n"
          ]
        }
      ]
    },
    {
      "cell_type": "code",
      "source": [
        "from sklearn.metrics import classification_report, confusion_matrix\n",
        "print('Confusion Matrix')\n",
        "print(confusion_matrix(y_test,y_pred))\n",
        "print('Accuracy Ketrics')\n",
        "print(classification_report(y_test,y_pred))"
      ],
      "metadata": {
        "colab": {
          "base_uri": "https://localhost:8080/"
        },
        "id": "gUdq1EwSNPtF",
        "outputId": "11c3843c-7160-4a02-e362-39db6313d96c"
      },
      "execution_count": null,
      "outputs": [
        {
          "output_type": "stream",
          "name": "stdout",
          "text": [
            "Confusion Matrix\n",
            "[[5 0 0]\n",
            " [0 3 1]\n",
            " [0 1 5]]\n",
            "Accuracy Ketrics\n",
            "              precision    recall  f1-score   support\n",
            "\n",
            "           0       1.00      1.00      1.00         5\n",
            "           1       0.75      0.75      0.75         4\n",
            "           2       0.83      0.83      0.83         6\n",
            "\n",
            "    accuracy                           0.87        15\n",
            "   macro avg       0.86      0.86      0.86        15\n",
            "weighted avg       0.87      0.87      0.87        15\n",
            "\n"
          ]
        }
      ]
    }
  ]
}