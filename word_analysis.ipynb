{
  "nbformat": 4,
  "nbformat_minor": 0,
  "metadata": {
    "colab": {
      "provenance": [],
      "name": "word analysis.ipynb",
      "authorship_tag": "ABX9TyNIhmXwCHFsSC+GDyDdbekC",
      "include_colab_link": true
    },
    "kernelspec": {
      "name": "python3",
      "display_name": "Python 3"
    },
    "language_info": {
      "name": "python"
    }
  },
  "cells": [
    {
      "cell_type": "markdown",
      "metadata": {
        "id": "view-in-github",
        "colab_type": "text"
      },
      "source": [
        "<a href=\"https://colab.research.google.com/github/jasmin-lilly/jasmin-lilly/blob/main/word_analysis.ipynb\" target=\"_parent\"><img src=\"https://colab.research.google.com/assets/colab-badge.svg\" alt=\"Open In Colab\"/></a>"
      ]
    },
    {
      "cell_type": "code",
      "execution_count": null,
      "metadata": {
        "colab": {
          "base_uri": "https://localhost:8080/"
        },
        "id": "95E9aQOxfAjZ",
        "outputId": "59ed51d7-ff7e-4725-bf4e-c31c86d57811"
      },
      "outputs": [
        {
          "output_type": "stream",
          "name": "stdout",
          "text": [
            "Requirement already satisfied: nltk in /usr/local/lib/python3.11/dist-packages (3.9.1)\n",
            "Requirement already satisfied: click in /usr/local/lib/python3.11/dist-packages (from nltk) (8.1.8)\n",
            "Requirement already satisfied: joblib in /usr/local/lib/python3.11/dist-packages (from nltk) (1.4.2)\n",
            "Requirement already satisfied: regex>=2021.8.3 in /usr/local/lib/python3.11/dist-packages (from nltk) (2024.11.6)\n",
            "Requirement already satisfied: tqdm in /usr/local/lib/python3.11/dist-packages (from nltk) (4.67.1)\n"
          ]
        }
      ],
      "source": [
        "!pip install nltk\n"
      ]
    },
    {
      "cell_type": "code",
      "source": [
        "import nltk\n",
        "from nltk.tokenize import word_tokenize\n",
        "from nltk.corpus import stopwords\n",
        "from nltk.probability import FreqDist\n",
        "nltk.download('punkt')\n",
        "nltk.download('stopwords')\n",
        "nltk.download('punkt_tab')\n",
        "def word_analysis(text):\n",
        "  words = word_tokenize(text) # Corrected the typo here: word_tokenize\n",
        "  words = [word.lower() for word in words]\n",
        "  stop_words = set(stopwords.words('english'))\n",
        "  words = [word for word in words if word.isalnum() and word not in stop_words] # Changed condition here\n",
        "  freq_dist = FreqDist(words)\n",
        "\n",
        "  # Print statements moved inside the function\n",
        "  print(\"Total words:\", len(words))\n",
        "  print(\"Unique words:\", len(freq_dist))\n",
        "  print(\"Most common words:\", freq_dist.most_common(10))\n",
        "if __name__==\"__main__\":\n",
        "  text=\"Natural Language processing NLP is a fied of AI that focuses on the interaction between computer and human using NLP\"\n",
        "  word_analysis(text)"
      ],
      "metadata": {
        "colab": {
          "base_uri": "https://localhost:8080/"
        },
        "id": "IOwQ1dCAkbtr",
        "outputId": "56bde3e2-b017-4524-a0aa-a796e0d8e94c"
      },
      "execution_count": null,
      "outputs": [
        {
          "output_type": "stream",
          "name": "stdout",
          "text": [
            "Total words: 12\n",
            "Unique words: 11\n",
            "Most common words: [('nlp', 2), ('natural', 1), ('language', 1), ('processing', 1), ('fied', 1), ('ai', 1), ('focuses', 1), ('interaction', 1), ('computer', 1), ('human', 1)]\n"
          ]
        },
        {
          "output_type": "stream",
          "name": "stderr",
          "text": [
            "[nltk_data] Downloading package punkt to /root/nltk_data...\n",
            "[nltk_data]   Package punkt is already up-to-date!\n",
            "[nltk_data] Downloading package stopwords to /root/nltk_data...\n",
            "[nltk_data]   Package stopwords is already up-to-date!\n",
            "[nltk_data] Downloading package punkt_tab to /root/nltk_data...\n",
            "[nltk_data]   Package punkt_tab is already up-to-date!\n"
          ]
        }
      ]
    }
  ]
}