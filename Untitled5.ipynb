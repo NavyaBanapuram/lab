{
  "nbformat": 4,
  "nbformat_minor": 0,
  "metadata": {
    "colab": {
      "provenance": [],
      "authorship_tag": "ABX9TyNrMNjRy6C3KdrroF9Ct4jg",
      "include_colab_link": true
    },
    "kernelspec": {
      "name": "python3",
      "display_name": "Python 3"
    },
    "language_info": {
      "name": "python"
    }
  },
  "cells": [
    {
      "cell_type": "markdown",
      "metadata": {
        "id": "view-in-github",
        "colab_type": "text"
      },
      "source": [
        "<a href=\"https://colab.research.google.com/github/NavyaBanapuram/lab/blob/main/Untitled5.ipynb\" target=\"_parent\"><img src=\"https://colab.research.google.com/assets/colab-badge.svg\" alt=\"Open In Colab\"/></a>"
      ]
    },
    {
      "cell_type": "code",
      "execution_count": 1,
      "metadata": {
        "id": "peYc8XuGEmRZ"
      },
      "outputs": [],
      "source": [
        "import nltk\n",
        "from nltk import pos_tag,RegexpParser\n",
        "from nltk.tokenize import word_tokenize"
      ]
    },
    {
      "cell_type": "code",
      "source": [
        "nltk.download('punkt')\n",
        "nltk.download('averaged_perceptron_tagger')\n",
        "nltk.download('averaged_perceptron_tagger_eng')\n",
        "nltk.download('punkt_tab')"
      ],
      "metadata": {
        "colab": {
          "base_uri": "https://localhost:8080/"
        },
        "id": "gqy9VSKSF9sO",
        "outputId": "fa0c8082-d25a-457d-cea4-abe893329eed"
      },
      "execution_count": 3,
      "outputs": [
        {
          "output_type": "stream",
          "name": "stderr",
          "text": [
            "[nltk_data] Downloading package punkt to /root/nltk_data...\n",
            "[nltk_data]   Package punkt is already up-to-date!\n",
            "[nltk_data] Downloading package averaged_perceptron_tagger to\n",
            "[nltk_data]     /root/nltk_data...\n",
            "[nltk_data]   Package averaged_perceptron_tagger is already up-to-\n",
            "[nltk_data]       date!\n",
            "[nltk_data] Downloading package averaged_perceptron_tagger_eng to\n",
            "[nltk_data]     /root/nltk_data...\n",
            "[nltk_data]   Package averaged_perceptron_tagger_eng is already up-to-\n",
            "[nltk_data]       date!\n",
            "[nltk_data] Downloading package punkt_tab to /root/nltk_data...\n",
            "[nltk_data]   Unzipping tokenizers/punkt_tab.zip.\n"
          ]
        },
        {
          "output_type": "execute_result",
          "data": {
            "text/plain": [
              "True"
            ]
          },
          "metadata": {},
          "execution_count": 3
        }
      ]
    },
    {
      "source": [
        "def chunker(text):\n",
        "  woeds=word_tokenize(text)\n",
        "  postag=pos_tag(woeds)\n",
        "  # Corrected chunk grammar format\n",
        "  chunk_gramer=r\"\"\"\n",
        "  NP: {<DT>?<JJ>*<NN>}\n",
        "  PP: {<IN><NP>}\n",
        "  VP: {<VB.*><NP|PP>+$}\n",
        "  \"\"\"\n",
        "  chunk_parser=RegexpParser(chunk_gramer)\n",
        "  chunked_text =chunk_parser.parse(postag)\n",
        "  return chunked_text\n",
        "text=\"the quick brown box jumps over the lazy dog\"\n",
        "# Using a different variable name to avoid overwriting the print function\n",
        "chunked_result = chunker(text)\n",
        "print(chunked_result) # Using print function to display the result"
      ],
      "cell_type": "code",
      "metadata": {
        "colab": {
          "base_uri": "https://localhost:8080/"
        },
        "id": "7WNWVl6gJEuW",
        "outputId": "7f934377-2b4c-4ff3-e9e0-b9b234bc084f"
      },
      "execution_count": 5,
      "outputs": [
        {
          "output_type": "stream",
          "name": "stdout",
          "text": [
            "(S\n",
            "  (NP the/DT quick/JJ brown/NN)\n",
            "  (NP box/NN)\n",
            "  (VP jumps/VBZ (PP over/IN (NP the/DT lazy/JJ dog/NN))))\n"
          ]
        }
      ]
    }
  ]
}