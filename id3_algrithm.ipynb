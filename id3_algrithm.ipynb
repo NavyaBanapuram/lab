{
  "nbformat": 4,
  "nbformat_minor": 0,
  "metadata": {
    "colab": {
      "provenance": [],
      "authorship_tag": "ABX9TyP5KB+rMbU4TrH+QP6vL/QA",
      "include_colab_link": true
    },
    "kernelspec": {
      "name": "python3",
      "display_name": "Python 3"
    },
    "language_info": {
      "name": "python"
    }
  },
  "cells": [
    {
      "cell_type": "markdown",
      "metadata": {
        "id": "view-in-github",
        "colab_type": "text"
      },
      "source": [
        "<a href=\"https://colab.research.google.com/github/jasmin-lilly/jasmin-lilly/blob/main/id3_algrithm.ipynb\" target=\"_parent\"><img src=\"https://colab.research.google.com/assets/colab-badge.svg\" alt=\"Open In Colab\"/></a>"
      ]
    },
    {
      "cell_type": "code",
      "execution_count": null,
      "metadata": {
        "colab": {
          "base_uri": "https://localhost:8080/"
        },
        "id": "2H-O2V8AKEvc",
        "outputId": "9f2da030-56d2-4bdb-f3ce-6f33d3e97bec"
      },
      "outputs": [
        {
          "output_type": "stream",
          "name": "stdout",
          "text": [
            "     Outlook Temperature Humidity    Wind Play Tennis\n",
            "0      Sunny         Hot     High    Weak          No\n",
            "1      Sunny         Hot     High  Strong          No\n",
            "2   Overcast         Hot     High    Weak         Yes\n",
            "3       Rain        Mild     High    Weak         Yes\n",
            "4       Rain        Cool   Normal    Weak         Yes\n",
            "5       Rain        Cool   Normal  Strong          No\n",
            "6   Overcast        Cool   Normal  Strong         Yes\n",
            "7      Sunny        Mild     High    Weak          No\n",
            "8      Sunny        Cool   Normal    Weak         Yes\n",
            "9       Rain        Mild   Normal    Weak         Yes\n",
            "10     Sunny        Mild   Normal  Strong         Yes\n",
            "11  Overcast        Mild     High  Strong         Yes\n",
            "12  Overcast         Hot   Normal    Weak         Yes\n",
            "13      Rain        Mild     High  Strong          No\n"
          ]
        }
      ],
      "source": [
        "import pandas as pd\n",
        "df=pd.read_csv(\"/content/PlayTennis.csv\")\n",
        "print(df)"
      ]
    },
    {
      "cell_type": "code",
      "source": [
        "def entropy(probs):\n",
        " import math\n",
        " return sum(-prob*math.log(prob,2) for prob in probs)"
      ],
      "metadata": {
        "id": "aaxFIr4gKZF8"
      },
      "execution_count": null,
      "outputs": []
    },
    {
      "cell_type": "code",
      "source": [
        "def entropy_of_list(a_list):\n",
        " from collections import Counter\n",
        " cnt = Counter (x for x in a_list)\n",
        " print(cnt)\n",
        " num_instances =len(a_list)\n",
        " probs=[x/num_instances for x in cnt.values()]\n",
        " print(num_instances)\n",
        " print(probs)\n",
        " return entropy(probs)\n",
        "total_entropy= entropy_of_list(df['Play Tennis'])\n",
        "print(total_entropy)"
      ],
      "metadata": {
        "colab": {
          "base_uri": "https://localhost:8080/"
        },
        "id": "4n_zt_jNKemK",
        "outputId": "7ee989b5-7100-40e0-96b1-138d7ee2e051"
      },
      "execution_count": null,
      "outputs": [
        {
          "output_type": "stream",
          "name": "stdout",
          "text": [
            "Counter({'Yes': 9, 'No': 5})\n",
            "14\n",
            "[0.35714285714285715, 0.6428571428571429]\n",
            "0.9402859586706309\n"
          ]
        }
      ]
    },
    {
      "cell_type": "code",
      "source": [
        "def information_gain(df,split_attribute_name, target_attribute_name, trace=0):\n",
        "  df_split =df.groupby(split_attribute_name)\n",
        "  print(df_split)\n",
        "  for name,group in df_split:\n",
        "    print(\"Name\",name)\n",
        "    print(\"Group\",group)\n",
        "    nobs=len(df.index)*1.0\n",
        "    print(nobs)\n",
        "    print(\"NOBS\",nobs)\n",
        "    df_agg_ent=df_split.agg({target_attribute_name: [entropy_of_list,lambda x: len(x)/nobs] })[target_attribute_name]\n",
        "    avg_info=sum(df_agg_ent['entropy_of_list'] * df_agg_ent['<lambda_0>'])\n",
        "    old_entropy=entropy_of_list(df[target_attribute_name])\n",
        "    return old_entropy-avg_info"
      ],
      "metadata": {
        "id": "BnoTFbSeKl4q"
      },
      "execution_count": null,
      "outputs": []
    },
    {
      "cell_type": "code",
      "source": [
        "def id3DT(df, target_attribute_name, attribute_names, default_class=None):\n",
        "  from collections import Counter\n",
        "  cnt = Counter(x for x in df[target_attribute_name])\n",
        "  if len(cnt)==1:\n",
        "     return next(iter(cnt))\n",
        "  elif df.empty or (not attribute_names):\n",
        "     return default_class\n",
        "  else:\n",
        "     default_class =max(cnt.keys())\n",
        "#print(\"attributes_names:\",attribute_names)\n",
        "     gainz=[information_gain(df,attr, target_attribute_name) for attr in attribute_names]\n",
        "     index_of_max=gainz.index(max(gainz))\n",
        "     best_attr=attribute_names[index_of_max]\n",
        "     tree={best_attr:{}}\n",
        "     remaining_attributes_names=[i for i in attribute_names if i != best_attr]\n",
        "     for attr_val, data_subset in df.groupby(best_attr):\n",
        "      subtree=id3DT(data_subset,target_attribute_name,remaining_attributes_names,default_class)\n",
        "      tree[best_attr][attr_val]=subtree\n",
        "  return tree\n",
        "attribute_names=list(df.columns)\n",
        "attribute_names.remove('Play Tennis')"
      ],
      "metadata": {
        "id": "KE2hIG2yKn5q"
      },
      "execution_count": null,
      "outputs": []
    },
    {
      "cell_type": "code",
      "source": [
        "from pprint import pprint\n",
        "tree= id3DT(df,'Play Tennis',attribute_names)\n",
        "print(\"The Resultant Decision Tree is \")\n",
        "pprint(tree)\n",
        "attribute=next(iter(tree))\n",
        "print(\"Best Attribute: \\n\", attribute)\n",
        "print(\"Tree Keys\\n \", tree[attribute].keys())"
      ],
      "metadata": {
        "colab": {
          "base_uri": "https://localhost:8080/"
        },
        "id": "jRdeW5UlKtrE",
        "outputId": "823291ac-6995-4e5f-d508-54d996f6af05"
      },
      "execution_count": null,
      "outputs": [
        {
          "output_type": "stream",
          "name": "stdout",
          "text": [
            "<pandas.core.groupby.generic.DataFrameGroupBy object at 0x7963ff1935e0>\n",
            "Name Overcast\n",
            "Group      Outlook Temperature Humidity    Wind Play Tennis\n",
            "2   Overcast         Hot     High    Weak         Yes\n",
            "6   Overcast        Cool   Normal  Strong         Yes\n",
            "11  Overcast        Mild     High  Strong         Yes\n",
            "12  Overcast         Hot   Normal    Weak         Yes\n",
            "14.0\n",
            "NOBS 14.0\n",
            "Counter({'Yes': 4})\n",
            "4\n",
            "[1.0]\n",
            "Counter({'Yes': 3, 'No': 2})\n",
            "5\n",
            "[0.6, 0.4]\n",
            "Counter({'No': 3, 'Yes': 2})\n",
            "5\n",
            "[0.6, 0.4]\n",
            "Counter({'Yes': 9, 'No': 5})\n",
            "14\n",
            "[0.35714285714285715, 0.6428571428571429]\n",
            "<pandas.core.groupby.generic.DataFrameGroupBy object at 0x7963ff33be80>\n",
            "Name Cool\n",
            "Group     Outlook Temperature Humidity    Wind Play Tennis\n",
            "4      Rain        Cool   Normal    Weak         Yes\n",
            "5      Rain        Cool   Normal  Strong          No\n",
            "6  Overcast        Cool   Normal  Strong         Yes\n",
            "8     Sunny        Cool   Normal    Weak         Yes\n",
            "14.0\n",
            "NOBS 14.0\n",
            "Counter({'Yes': 3, 'No': 1})\n",
            "4\n",
            "[0.75, 0.25]\n",
            "Counter({'No': 2, 'Yes': 2})\n",
            "4\n",
            "[0.5, 0.5]\n",
            "Counter({'Yes': 4, 'No': 2})\n",
            "6\n",
            "[0.6666666666666666, 0.3333333333333333]\n",
            "Counter({'Yes': 9, 'No': 5})\n",
            "14\n",
            "[0.35714285714285715, 0.6428571428571429]\n",
            "<pandas.core.groupby.generic.DataFrameGroupBy object at 0x7963ff33bee0>\n",
            "Name High\n",
            "Group      Outlook Temperature Humidity    Wind Play Tennis\n",
            "0      Sunny         Hot     High    Weak          No\n",
            "1      Sunny         Hot     High  Strong          No\n",
            "2   Overcast         Hot     High    Weak         Yes\n",
            "3       Rain        Mild     High    Weak         Yes\n",
            "7      Sunny        Mild     High    Weak          No\n",
            "11  Overcast        Mild     High  Strong         Yes\n",
            "13      Rain        Mild     High  Strong          No\n",
            "14.0\n",
            "NOBS 14.0\n",
            "Counter({'No': 4, 'Yes': 3})\n",
            "7\n",
            "[0.5714285714285714, 0.42857142857142855]\n",
            "Counter({'Yes': 6, 'No': 1})\n",
            "7\n",
            "[0.8571428571428571, 0.14285714285714285]\n",
            "Counter({'Yes': 9, 'No': 5})\n",
            "14\n",
            "[0.35714285714285715, 0.6428571428571429]\n",
            "<pandas.core.groupby.generic.DataFrameGroupBy object at 0x7964369b1810>\n",
            "Name Strong\n",
            "Group      Outlook Temperature Humidity    Wind Play Tennis\n",
            "1      Sunny         Hot     High  Strong          No\n",
            "5       Rain        Cool   Normal  Strong          No\n",
            "6   Overcast        Cool   Normal  Strong         Yes\n",
            "10     Sunny        Mild   Normal  Strong         Yes\n",
            "11  Overcast        Mild     High  Strong         Yes\n",
            "13      Rain        Mild     High  Strong          No\n",
            "14.0\n",
            "NOBS 14.0\n",
            "Counter({'No': 3, 'Yes': 3})\n",
            "6\n",
            "[0.5, 0.5]\n",
            "Counter({'Yes': 6, 'No': 2})\n",
            "8\n",
            "[0.25, 0.75]\n",
            "Counter({'Yes': 9, 'No': 5})\n",
            "14\n",
            "[0.35714285714285715, 0.6428571428571429]\n",
            "<pandas.core.groupby.generic.DataFrameGroupBy object at 0x7963ff190520>\n",
            "Name Cool\n",
            "Group   Outlook Temperature Humidity    Wind Play Tennis\n",
            "4    Rain        Cool   Normal    Weak         Yes\n",
            "5    Rain        Cool   Normal  Strong          No\n",
            "5.0\n",
            "NOBS 5.0\n",
            "Counter({'Yes': 1, 'No': 1})\n",
            "2\n",
            "[0.5, 0.5]\n",
            "Counter({'Yes': 2, 'No': 1})\n",
            "3\n",
            "[0.6666666666666666, 0.3333333333333333]\n",
            "Counter({'Yes': 3, 'No': 2})\n",
            "5\n",
            "[0.6, 0.4]\n",
            "<pandas.core.groupby.generic.DataFrameGroupBy object at 0x7963ff1936d0>\n",
            "Name High\n",
            "Group    Outlook Temperature Humidity    Wind Play Tennis\n",
            "3     Rain        Mild     High    Weak         Yes\n",
            "13    Rain        Mild     High  Strong          No\n",
            "5.0\n",
            "NOBS 5.0\n",
            "Counter({'Yes': 1, 'No': 1})\n",
            "2\n",
            "[0.5, 0.5]\n",
            "Counter({'Yes': 2, 'No': 1})\n",
            "3\n",
            "[0.6666666666666666, 0.3333333333333333]\n",
            "Counter({'Yes': 3, 'No': 2})\n",
            "5\n",
            "[0.6, 0.4]\n",
            "<pandas.core.groupby.generic.DataFrameGroupBy object at 0x7963ff190520>\n",
            "Name Strong\n",
            "Group    Outlook Temperature Humidity    Wind Play Tennis\n",
            "5     Rain        Cool   Normal  Strong          No\n",
            "13    Rain        Mild     High  Strong          No\n",
            "5.0\n",
            "NOBS 5.0\n",
            "Counter({'No': 2})\n",
            "2\n",
            "[1.0]\n",
            "Counter({'Yes': 3})\n",
            "3\n",
            "[1.0]\n",
            "Counter({'Yes': 3, 'No': 2})\n",
            "5\n",
            "[0.6, 0.4]\n",
            "<pandas.core.groupby.generic.DataFrameGroupBy object at 0x7963ff1936d0>\n",
            "Name Cool\n",
            "Group   Outlook Temperature Humidity  Wind Play Tennis\n",
            "8   Sunny        Cool   Normal  Weak         Yes\n",
            "5.0\n",
            "NOBS 5.0\n",
            "Counter({'Yes': 1})\n",
            "1\n",
            "[1.0]\n",
            "Counter({'No': 2})\n",
            "2\n",
            "[1.0]\n",
            "Counter({'No': 1, 'Yes': 1})\n",
            "2\n",
            "[0.5, 0.5]\n",
            "Counter({'No': 3, 'Yes': 2})\n",
            "5\n",
            "[0.6, 0.4]\n",
            "<pandas.core.groupby.generic.DataFrameGroupBy object at 0x7963ff1913f0>\n",
            "Name High\n",
            "Group   Outlook Temperature Humidity    Wind Play Tennis\n",
            "0   Sunny         Hot     High    Weak          No\n",
            "1   Sunny         Hot     High  Strong          No\n",
            "7   Sunny        Mild     High    Weak          No\n",
            "5.0\n",
            "NOBS 5.0\n",
            "Counter({'No': 3})\n",
            "3\n",
            "[1.0]\n",
            "Counter({'Yes': 2})\n",
            "2\n",
            "[1.0]\n",
            "Counter({'No': 3, 'Yes': 2})\n",
            "5\n",
            "[0.6, 0.4]\n",
            "<pandas.core.groupby.generic.DataFrameGroupBy object at 0x7963ff190a60>\n",
            "Name Strong\n",
            "Group    Outlook Temperature Humidity    Wind Play Tennis\n",
            "1    Sunny         Hot     High  Strong          No\n",
            "10   Sunny        Mild   Normal  Strong         Yes\n",
            "5.0\n",
            "NOBS 5.0\n",
            "Counter({'No': 1, 'Yes': 1})\n",
            "2\n",
            "[0.5, 0.5]\n",
            "Counter({'No': 2, 'Yes': 1})\n",
            "3\n",
            "[0.6666666666666666, 0.3333333333333333]\n",
            "Counter({'No': 3, 'Yes': 2})\n",
            "5\n",
            "[0.6, 0.4]\n",
            "The Resultant Decision Tree is \n",
            "{'Outlook': {'Overcast': 'Yes',\n",
            "             'Rain': {'Wind': {'Strong': 'No', 'Weak': 'Yes'}},\n",
            "             'Sunny': {'Humidity': {'High': 'No', 'Normal': 'Yes'}}}}\n",
            "Best Attribute: \n",
            " Outlook\n",
            "Tree Keys\n",
            "  dict_keys(['Overcast', 'Rain', 'Sunny'])\n"
          ]
        }
      ]
    },
    {
      "cell_type": "code",
      "source": [
        "def classify(instance, tree, default=None):\n",
        "  attribute=next(iter(tree))\n",
        "  print(\"Key:\",tree.keys())\n",
        "  print(\"Attribute\",attribute)\n",
        "  if instance[attribute] in tree[attribute].keys():\n",
        "    result=tree[attribute][instance[attribute]]\n",
        "    print(\"Instance Attribute:\",instance[attribute], \"TreeKeys:\",tree[attribute].keys())\n",
        "    if isinstance(result,dict):\n",
        "       return classify(instance,result)\n",
        "    else:\n",
        "       return result\n",
        "  else:\n",
        "    return default\n",
        "tree1={'Outlook':['Rain','Sunny'],'Temperature':['Mild','Hot'],'Humidity':['High','High'],'Wind':['Weak','Weak']}\n",
        "df2=pd.DataFrame(tree1)\n",
        "df2['Predicted']=df2.apply(classify,axis=1, args=(tree,'No'))\n",
        "print(df2)"
      ],
      "metadata": {
        "colab": {
          "base_uri": "https://localhost:8080/"
        },
        "id": "_Zw5XBE6Kzdb",
        "outputId": "79f72638-1b59-471d-82e2-bad5fac23890"
      },
      "execution_count": null,
      "outputs": [
        {
          "output_type": "stream",
          "name": "stdout",
          "text": [
            "Key: dict_keys(['Outlook'])\n",
            "Attribute Outlook\n",
            "Instance Attribute: Rain TreeKeys: dict_keys(['Overcast', 'Rain', 'Sunny'])\n",
            "Key: dict_keys(['Wind'])\n",
            "Attribute Wind\n",
            "Instance Attribute: Weak TreeKeys: dict_keys(['Strong', 'Weak'])\n",
            "Key: dict_keys(['Outlook'])\n",
            "Attribute Outlook\n",
            "Instance Attribute: Sunny TreeKeys: dict_keys(['Overcast', 'Rain', 'Sunny'])\n",
            "Key: dict_keys(['Humidity'])\n",
            "Attribute Humidity\n",
            "Instance Attribute: High TreeKeys: dict_keys(['High', 'Normal'])\n",
            "  Outlook Temperature Humidity  Wind Predicted\n",
            "0    Rain        Mild     High  Weak       Yes\n",
            "1   Sunny         Hot     High  Weak        No\n"
          ]
        }
      ]
    }
  ]
}